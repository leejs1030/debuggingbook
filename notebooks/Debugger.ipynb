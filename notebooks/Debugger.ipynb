{
  "cells": [
    {
      "cell_type": "markdown",
      "metadata": {
        "button": false,
        "new_sheet": false,
        "run_control": {
          "read_only": false
        },
        "tags": [
          "1"
        ]
      },
      "source": [
        "# How Debuggers Work\n",
        "\n",
        "Interactive _debuggers_ are tools that allow you to selectively observe the program state during an execution.  In this chapter, you will learn how such debuggers work \u2013 by building your own debugger."
      ]
    },
    {
      "cell_type": "code",
      "execution_count": 1,
      "metadata": {
        "tags": [
          "2"
        ]
      },
      "outputs": [
        {
          "data": {
            "text/html": [
              "\n",
              "        <iframe\n",
              "            width=\"640\"\n",
              "            height=\"360\"\n",
              "            src=\"https://www.youtube-nocookie.com/embed/4aZ0t7CWSjA\"\n",
              "            frameborder=\"0\"\n",
              "            allowfullscreen\n",
              "            \n",
              "        ></iframe>\n",
              "        "
            ],
            "text/plain": [
              "<IPython.lib.display.IFrame at 0x7f0055d6cf90>"
            ]
          },
          "execution_count": 1,
          "metadata": {},
          "output_type": "execute_result"
        }
      ],
      "source": [
        "from bookutils import YouTubeVideo\n",
        "YouTubeVideo(\"4aZ0t7CWSjA\")"
      ]
    },
    {
      "cell_type": "markdown",
      "metadata": {
        "button": false,
        "new_sheet": false,
        "run_control": {
          "read_only": false
        },
        "tags": [
          "3"
        ]
      },
      "source": [
        "**Prerequisites**\n",
        "\n",
        "* You should have read the [Chapter on Tracing Executions](Tracer.ipynb).\n",
        "* Again, knowing a bit of _Python_ is helpful for understanding the code examples in the book."
      ]
    },
    {
      "cell_type": "code",
      "execution_count": 2,
      "metadata": {
        "button": false,
        "new_sheet": false,
        "run_control": {
          "read_only": false
        },
        "slideshow": {
          "slide_type": "skip"
        },
        "tags": [
          "4"
        ]
      },
      "outputs": [],
      "source": [
        "import bookutils.setup"
      ]
    },
    {
      "cell_type": "code",
      "execution_count": 3,
      "metadata": {
        "tags": [
          "5"
        ]
      },
      "outputs": [],
      "source": [
        "import sys"
      ]
    },
    {
      "cell_type": "code",
      "execution_count": 4,
      "metadata": {
        "tags": [
          "6"
        ]
      },
      "outputs": [],
      "source": [
        "from Tracer import Tracer"
      ]
    },
    {
      "cell_type": "markdown",
      "metadata": {
        "slideshow": {
          "slide_type": "skip"
        },
        "tags": [
          "7"
        ]
      },
      "source": [
        "## Synopsis\n",
        "<!-- Automatically generated. Do not edit. -->\n",
        "\n",
        "To [use the code provided in this chapter](Importing.ipynb), write\n",
        "\n",
        "```python\n",
        ">>> from debuggingbook.Debugger import <identifier>\n",
        "```\n",
        "\n",
        "and then make use of the following features.\n",
        "\n",
        "\n",
        "This chapter provides an interactive debugger for Python functions. The debugger is invoked as\n",
        "\n",
        "```python\n",
        "with Debugger():\n",
        "    function_to_be_observed()\n",
        "    ...\n",
        "```\n",
        "While running, you can enter _debugger commands_ at the `(debugger)` prompt. Here's an example session:\n",
        "\n",
        "```python\n",
        ">>> with Debugger():\n",
        ">>>     ret = remove_html_markup('abc')\n",
        "```\n",
        "The `Debugger` class can be easily extended in subclasses. A new method `NAME_command(self, arg)` will be invoked whenever a command named `NAME` is entered, with `arg` holding given command arguments (empty string if none).\n",
        "\n"
      ]
    },
    {
      "cell_type": "markdown",
      "metadata": {
        "button": false,
        "new_sheet": true,
        "run_control": {
          "read_only": false
        },
        "tags": [
          "8"
        ]
      },
      "source": [
        "## Debuggers\n",
        "\n",
        "_Interactive Debuggers_ (or short *debuggers*) are tools that allow you to observe program executions. A debugger typically offers the following features:\n",
        "\n",
        "* _Run_ the program\n",
        "* Define _conditions_ under which the execution should _stop_ and hand over control to the debugger. Conditions include\n",
        "    * a particular location is reached\n",
        "    * a particular variable takes a particular value\n",
        "    * a particular variable is accessed\n",
        "    * or some other condition of choice.\n",
        "* When the program stops, you can _observe_ the current state, including\n",
        "    * the current location\n",
        "    * variables and their values\n",
        "    * the current function and its callers\n",
        "* When the program stops, you can _step_ through program execution, having it stop at the next instruction again.\n",
        "* Finally, you can also _resume_ execution to the next stop."
      ]
    },
    {
      "cell_type": "markdown",
      "metadata": {
        "button": false,
        "new_sheet": true,
        "run_control": {
          "read_only": false
        },
        "tags": [
          "9"
        ]
      },
      "source": [
        "This functionality often comes as a _command-line interface_, typing commands at a prompt; or as a _graphical user interface_, selecting commands from the screen. Debuggers can come as standalone tools, or be integrated into a programming environment of choice."
      ]
    },
    {
      "cell_type": "markdown",
      "metadata": {
        "button": false,
        "new_sheet": true,
        "run_control": {
          "read_only": false
        },
        "tags": [
          "10"
        ]
      },
      "source": [
        "Debugger interaction typically follows a _loop_ pattern. First, you identify the location(s) you want to inspect, and tell the debugger to stop execution once one of these _breakpoints_ is reached. Here's a command that could instruct a command-line debugger to stop at Line 239:\n",
        "\n",
        "```\n",
        "(debugger) break 239\n",
        "(debugger) _\n",
        "```\n",
        "\n",
        "Then you have the debugger resume or start execution. The debugger will stop at the given location.\n",
        "\n",
        "```\n",
        "(debugger) continue\n",
        "Line 239: s = x\n",
        "(debugger) _\n",
        "```\n",
        "\n",
        "When it stops at the given location, you use debugger commands to inspect the state (and check whether things are as expected).\n",
        "\n",
        "```\n",
        "(debugger) print s\n",
        "s = 'abc'\n",
        "(debugger) _\n",
        "```\n",
        "\n",
        "You can then step through the program, executing more lines.\n",
        "\n",
        "```\n",
        "(debugger) step\n",
        "Line 240: c = s[0]\n",
        "(debugger) print c\n",
        "c = 'a'\n",
        "(debugger) _\n",
        "```\n",
        "\n",
        "You can also define new stop conditions, investigating other locations, variables, and conditions."
      ]
    },
    {
      "cell_type": "markdown",
      "metadata": {
        "tags": [
          "11"
        ]
      },
      "source": [
        "## Debugger Interaction\n",
        "\n",
        "Let us now show how to build such a debugger.  The key idea of an _interactive_ debugger is to set up the _tracing function_ such that it actually _asks_ what to do next, prompting you to enter a _command_. For the sake of simplicity, we collect such a command interactively from a command line, using the Python `input()` function."
      ]
    },
    {
      "cell_type": "markdown",
      "metadata": {
        "tags": [
          "12"
        ]
      },
      "source": [
        "Our debugger holds a number of variables to indicate its current status:\n",
        "* `stepping` is True whenever the user wants to step into the next line.\n",
        "* `breakpoints` is a set of breakpoints (line numbers)\n",
        "* `interact` is True while the user stays at one position.\n",
        "\n",
        "We also store the current tracing information in three attributes `frame`, `event`, and `arg`. The variable `local_vars` holds local variables."
      ]
    },
    {
      "cell_type": "code",
      "execution_count": 5,
      "metadata": {
        "tags": [
          "13"
        ]
      },
      "outputs": [],
      "source": [
        "from types import FrameType"
      ]
    },
    {
      "cell_type": "code",
      "execution_count": 6,
      "metadata": {
        "tags": [
          "14"
        ]
      },
      "outputs": [],
      "source": [
        "# ignore\n",
        "from typing import Any, Optional, Callable, Dict, List, Tuple, Set, TextIO"
      ]
    },
    {
      "cell_type": "code",
      "execution_count": 7,
      "metadata": {
        "tags": [
          "15"
        ]
      },
      "outputs": [],
      "source": [
        "class Debugger(Tracer):\n",
        "    \"\"\"Interactive Debugger\"\"\"\n",
        "\n",
        "    def __init__(self, *, file: TextIO = sys.stdout) -> None:\n",
        "        \"\"\"Create a new interactive debugger.\"\"\"\n",
        "        self.stepping: bool = True\n",
        "        self.breakpoints: Set[int] = set()\n",
        "        self.interact: bool = True\n",
        "\n",
        "        self.frame: FrameType\n",
        "        self.event: Optional[str] = None\n",
        "        self.arg: Any = None\n",
        "\n",
        "        self.local_vars: Dict[str, Any] = {}\n",
        "\n",
        "        super().__init__(file=file)"
      ]
    },
    {
      "cell_type": "markdown",
      "metadata": {
        "tags": [
          "16"
        ]
      },
      "source": [
        "The `traceit()` method is the main entry point for our debugger. If we should stop, we go into user interaction."
      ]
    },
    {
      "cell_type": "code",
      "execution_count": 8,
      "metadata": {
        "tags": [
          "17"
        ]
      },
      "outputs": [],
      "source": [
        "class Debugger(Debugger):\n",
        "    def traceit(self, frame: FrameType, event: str, arg: Any) -> None:\n",
        "        \"\"\"Tracing function; called at every line. To be overloaded in subclasses.\"\"\"\n",
        "        self.frame = frame\n",
        "        self.local_vars = frame.f_locals  # Dereference exactly once\n",
        "        self.event = event\n",
        "        self.arg = arg\n",
        "\n",
        "        if self.stop_here():\n",
        "            self.interaction_loop()"
      ]
    },
    {
      "cell_type": "markdown",
      "metadata": {
        "tags": [
          "18"
        ]
      },
      "source": [
        "We stop whenever we are stepping through the program or reach a breakpoint:"
      ]
    },
    {
      "cell_type": "code",
      "execution_count": 9,
      "metadata": {
        "tags": [
          "19"
        ]
      },
      "outputs": [],
      "source": [
        "class Debugger(Debugger):\n",
        "    def stop_here(self) -> bool:\n",
        "        \"\"\"Return True if we should stop\"\"\"\n",
        "        return self.stepping or self.frame.f_lineno in self.breakpoints"
      ]
    },
    {
      "cell_type": "markdown",
      "metadata": {
        "tags": [
          "20"
        ]
      },
      "source": [
        "Our interaction loop shows the current status, reads in commands, and executes them."
      ]
    },
    {
      "cell_type": "code",
      "execution_count": 10,
      "metadata": {
        "tags": [
          "21"
        ]
      },
      "outputs": [],
      "source": [
        "class Debugger(Debugger):\n",
        "    def interaction_loop(self) -> None:\n",
        "        \"\"\"Interact with the user\"\"\"\n",
        "        self.print_debugger_status(self.frame, self.event, self.arg)  # type: ignore\n",
        "\n",
        "        self.interact = True\n",
        "        while self.interact:\n",
        "            command = input(\"(debugger) \")\n",
        "            self.execute(command)  # type: ignore"
      ]
    },
    {
      "cell_type": "markdown",
      "metadata": {
        "tags": [
          "22"
        ]
      },
      "source": [
        "For a moment, let us implement two commands, `step` and `continue`. `step` steps through the program:"
      ]
    },
    {
      "cell_type": "code",
      "execution_count": 11,
      "metadata": {
        "tags": [
          "23"
        ]
      },
      "outputs": [],
      "source": [
        "class Debugger(Debugger):\n",
        "    def step_command(self, arg: str = \"\") -> None:\n",
        "        \"\"\"Execute up to the next line\"\"\"\n",
        "\n",
        "        self.stepping = True\n",
        "        self.interact = False"
      ]
    },
    {
      "cell_type": "code",
      "execution_count": 12,
      "metadata": {
        "tags": [
          "24"
        ]
      },
      "outputs": [],
      "source": [
        "class Debugger(Debugger):\n",
        "    def continue_command(self, arg: str = \"\") -> None:\n",
        "        \"\"\"Resume execution\"\"\"\n",
        "\n",
        "        self.stepping = False\n",
        "        self.interact = False"
      ]
    },
    {
      "cell_type": "markdown",
      "metadata": {
        "tags": [
          "25"
        ]
      },
      "source": [
        "The `execute()` method dispatches between these two."
      ]
    },
    {
      "cell_type": "code",
      "execution_count": 13,
      "metadata": {
        "tags": [
          "26"
        ]
      },
      "outputs": [],
      "source": [
        "class Debugger(Debugger):\n",
        "    def execute(self, command: str) -> None:\n",
        "        if command.startswith('s'):\n",
        "            self.step_command()\n",
        "        elif command.startswith('c'):\n",
        "            self.continue_command()"
      ]
    },
    {
      "cell_type": "markdown",
      "metadata": {
        "tags": [
          "27"
        ]
      },
      "source": [
        "Our debugger is now ready to run! Let us invoke it on the buggy `remove_html_markup()` variant from the [Introduction to Debugging](Intro_Debugging.ipynb):"
      ]
    },
    {
      "cell_type": "code",
      "execution_count": 14,
      "metadata": {
        "tags": [
          "28"
        ]
      },
      "outputs": [],
      "source": [
        "def remove_html_markup(s):  # type: ignore\n",
        "    tag = False\n",
        "    quote = False\n",
        "    out = \"\"\n",
        "\n",
        "    for c in s:\n",
        "        if c == '<' and not quote:\n",
        "            tag = True\n",
        "        elif c == '>' and not quote:\n",
        "            tag = False\n",
        "        elif c == '\"' or c == \"'\" and tag:\n",
        "            quote = not quote\n",
        "        elif not tag:\n",
        "            out = out + c\n",
        "\n",
        "    return out"
      ]
    },
    {
      "cell_type": "code",
      "execution_count": 17,
      "metadata": {
        "tags": [
          "29"
        ]
      },
      "outputs": [
        {
          "name": "stdout",
          "output_type": "stream",
          "text": [
            "Calling remove_html_markup(s = 'abc')\n",
            "(debugger) c\n",
            "abc\n"
          ]
        }
      ],
      "source": [
        "with Debugger():\n",
        "    out = remove_html_markup('abc')\n",
        "    print(out)"
      ]
    },
    {
      "cell_type": "markdown",
      "metadata": {
        "tags": [
          "29",
          "30"
        ]
      },
      "source": [
        "We invoke the debugger just like `Tracer`, using a `with` clause. The code\n",
        "\n",
        "```python\n",
        "with Debugger():\n",
        "    remove_html_markup('abc')\n",
        "```\n",
        "gives us a debugger prompt\n",
        "```\n",
        "(debugger) _\n",
        "```\n",
        "where we can enter one of our two commands."
      ]
    },
    {
      "cell_type": "markdown",
      "metadata": {
        "tags": [
          "30",
          "31"
        ]
      },
      "source": [
        "Let us do two steps through the program and then resume execution:"
      ]
    },
    {
      "cell_type": "code",
      "execution_count": 18,
      "metadata": {
        "tags": [
          "31",
          "32"
        ]
      },
      "outputs": [],
      "source": [
        "from bookutils import input, next_inputs"
      ]
    },
    {
      "cell_type": "code",
      "execution_count": 19,
      "metadata": {
        "tags": [
          "32",
          "33"
        ]
      },
      "outputs": [
        {
          "data": {
            "text/plain": [
              "['step', 'step', 'continue']"
            ]
          },
          "execution_count": 19,
          "metadata": {},
          "output_type": "execute_result"
        }
      ],
      "source": [
        "# ignore\n",
        "next_inputs([\"step\", \"step\", \"continue\"])"
      ]
    },
    {
      "cell_type": "code",
      "execution_count": 20,
      "metadata": {
        "tags": [
          "33",
          "34"
        ]
      },
      "outputs": [
        {
          "name": "stdout",
          "output_type": "stream",
          "text": [
            "Calling remove_html_markup(s = 'abc')\n"
          ]
        },
        {
          "data": {
            "text/html": [
              "<samp>(debugger) <b>step</b></samp>"
            ],
            "text/plain": [
              "<IPython.core.display.HTML object>"
            ]
          },
          "metadata": {},
          "output_type": "display_data"
        },
        {
          "name": "stdout",
          "output_type": "stream",
          "text": [
            "2     tag = False\n"
          ]
        },
        {
          "data": {
            "text/html": [
              "<samp>(debugger) <b>step</b></samp>"
            ],
            "text/plain": [
              "<IPython.core.display.HTML object>"
            ]
          },
          "metadata": {},
          "output_type": "display_data"
        },
        {
          "name": "stdout",
          "output_type": "stream",
          "text": [
            "                                         # tag = False\n",
            "3     quote = False\n"
          ]
        },
        {
          "data": {
            "text/html": [
              "<samp>(debugger) <b>continue</b></samp>"
            ],
            "text/plain": [
              "<IPython.core.display.HTML object>"
            ]
          },
          "metadata": {},
          "output_type": "display_data"
        }
      ],
      "source": [
        "with Debugger():\n",
        "    remove_html_markup('abc')"
      ]
    },
    {
      "cell_type": "code",
      "execution_count": 21,
      "metadata": {
        "tags": [
          "34",
          "35"
        ]
      },
      "outputs": [],
      "source": [
        "# docassert\n",
        "assert not next_inputs()"
      ]
    },
    {
      "cell_type": "markdown",
      "metadata": {
        "tags": [
          "35",
          "36"
        ]
      },
      "source": [
        "Try this out for yourself by running the above invocation in the interactive notebook! If you are reading the Web version, the top menu entry `Resources` -> `Edit as Notebook` will do the trick. Navigate to the above invocation and press `Shift`+`Enter`."
      ]
    },
    {
      "cell_type": "markdown",
      "metadata": {
        "tags": [
          "36",
          "37"
        ]
      },
      "source": [
        "### A Command Dispatcher"
      ]
    },
    {
      "cell_type": "markdown",
      "metadata": {
        "tags": [
          "37",
          "38"
        ]
      },
      "source": [
        "Our `execute()` function is still a bit rudimentary. A true command-line tool should provide means to tell which commands are available (`help`), automatically split arguments, and not stand in line of extensibility."
      ]
    },
    {
      "cell_type": "markdown",
      "metadata": {
        "tags": [
          "38",
          "39"
        ]
      },
      "source": [
        "We therefore implement a better `execute()` method which does all that. Our revised `execute()` method _inspects_ its class for methods that end in `_command()`, and automatically registers their names as commands. Hence, with the above, we already get `step` and `continue` as possible commands."
      ]
    },
    {
      "cell_type": "markdown",
      "metadata": {
        "tags": [
          "39",
          "40"
        ]
      },
      "source": [
        "### Excursion: Implementing execute()"
      ]
    },
    {
      "cell_type": "markdown",
      "metadata": {
        "tags": [
          "40",
          "41"
        ]
      },
      "source": [
        "Let us detail how we implement `execute()`. The `commands()` method returns a list of all commands (as strings) from the class."
      ]
    },
    {
      "cell_type": "code",
      "execution_count": 22,
      "metadata": {
        "tags": [
          "41",
          "42"
        ]
      },
      "outputs": [],
      "source": [
        "class Debugger(Debugger):\n",
        "    def commands(self) -> List[str]:\n",
        "        \"\"\"Return a list of commands\"\"\"\n",
        "\n",
        "        cmds = [method.replace('_command', '')\n",
        "                for method in dir(self.__class__)\n",
        "                if method.endswith('_command')]\n",
        "        cmds.sort()\n",
        "        return cmds"
      ]
    },
    {
      "cell_type": "code",
      "execution_count": null,
      "metadata": {
        "tags": [
          "42",
          "43"
        ]
      },
      "outputs": [],
      "source": [
        "d = Debugger()\n",
        "d.commands()"
      ]
    },
    {
      "cell_type": "markdown",
      "metadata": {
        "tags": [
          "43",
          "44"
        ]
      },
      "source": [
        "The `command_method()` method converts a given command (or its abbrevation) into a method to be called."
      ]
    },
    {
      "cell_type": "code",
      "execution_count": 23,
      "metadata": {
        "tags": [
          "44",
          "45"
        ]
      },
      "outputs": [],
      "source": [
        "class Debugger(Debugger):\n",
        "    def help_command(self, command: str) -> None:\n",
        "        ...\n",
        "\n",
        "    def command_method(self, command: str) -> Optional[Callable[[str], None]]:\n",
        "        \"\"\"Convert `command` into the method to be called.\n",
        "           If the method is not found, return `None` instead.\"\"\"\n",
        "\n",
        "        if command.startswith('#'):\n",
        "            return None  # Comment\n",
        "\n",
        "        possible_cmds = [possible_cmd for possible_cmd in self.commands()\n",
        "                         if possible_cmd.startswith(command)]\n",
        "        if len(possible_cmds) != 1:\n",
        "            self.help_command(command)\n",
        "            return None\n",
        "\n",
        "        cmd = possible_cmds[0]\n",
        "        return getattr(self, cmd + '_command')"
      ]
    },
    {
      "cell_type": "code",
      "execution_count": 24,
      "metadata": {
        "tags": [
          "45",
          "46"
        ]
      },
      "outputs": [
        {
          "data": {
            "text/plain": [
              "<bound method Debugger.step_command of <__main__.Debugger object at 0x7f0055d4d350>>"
            ]
          },
          "execution_count": 24,
          "metadata": {},
          "output_type": "execute_result"
        }
      ],
      "source": [
        "d = Debugger()\n",
        "d.command_method(\"step\")"
      ]
    },
    {
      "cell_type": "code",
      "execution_count": 31,
      "metadata": {
        "tags": [
          "46",
          "47"
        ]
      },
      "outputs": [
        {
          "data": {
            "text/plain": [
              "<bound method Debugger.step_command of <__main__.Debugger object at 0x7f005543ac10>>"
            ]
          },
          "execution_count": 31,
          "metadata": {},
          "output_type": "execute_result"
        }
      ],
      "source": [
        "d = Debugger()\n",
        "d.command_method(\"s\")"
      ]
    },
    {
      "cell_type": "markdown",
      "metadata": {
        "tags": [
          "47",
          "48"
        ]
      },
      "source": [
        "The revised `execute()` method now determines this method and executes it with the given argument."
      ]
    },
    {
      "cell_type": "code",
      "execution_count": 32,
      "metadata": {
        "tags": [
          "48",
          "49"
        ]
      },
      "outputs": [],
      "source": [
        "class Debugger(Debugger):\n",
        "    def execute(self, command: str) -> None:\n",
        "        \"\"\"Execute `command`\"\"\"\n",
        "\n",
        "        sep = command.find(' ')\n",
        "        if sep > 0:\n",
        "            cmd = command[:sep].strip()\n",
        "            arg = command[sep + 1:].strip()\n",
        "        else:\n",
        "            cmd = command.strip()\n",
        "            arg = \"\"\n",
        "\n",
        "        method = self.command_method(cmd)\n",
        "        if method:\n",
        "            method(arg)"
      ]
    },
    {
      "cell_type": "markdown",
      "metadata": {
        "tags": [
          "49",
          "50"
        ]
      },
      "source": [
        "If `command_method()` cannot find the command, or finds more than one matching the prefix, it invokes the `help` command providing additional assistance. `help` draws extra info on each command from its documentation string."
      ]
    },
    {
      "cell_type": "code",
      "execution_count": 33,
      "metadata": {
        "tags": [
          "50",
          "51"
        ]
      },
      "outputs": [],
      "source": [
        "class Debugger(Debugger):\n",
        "    def help_command(self, command: str = \"\") -> None:\n",
        "        \"\"\"Give help on given `command`. If no command is given, give help on all\"\"\"\n",
        "\n",
        "        if command:\n",
        "            possible_cmds = [possible_cmd for possible_cmd in self.commands()\n",
        "                             if possible_cmd.startswith(command)]\n",
        "\n",
        "            if len(possible_cmds) == 0:\n",
        "                self.log(f\"Unknown command {repr(command)}. Possible commands are:\")\n",
        "                possible_cmds = self.commands()\n",
        "            elif len(possible_cmds) > 1:\n",
        "                self.log(f\"Ambiguous command {repr(command)}. Possible expansions are:\")\n",
        "        else:\n",
        "            possible_cmds = self.commands()\n",
        "\n",
        "        for cmd in possible_cmds:\n",
        "            method = self.command_method(cmd)\n",
        "            self.log(f\"{cmd:10} -- {method.__doc__}\")"
      ]
    },
    {
      "cell_type": "code",
      "execution_count": 34,
      "metadata": {
        "tags": [
          "51",
          "52"
        ]
      },
      "outputs": [
        {
          "name": "stdout",
          "output_type": "stream",
          "text": [
            "continue   -- Resume execution\n",
            "help       -- Give help on given `command`. If no command is given, give help on all\n",
            "step       -- Execute up to the next line\n"
          ]
        }
      ],
      "source": [
        "d = Debugger()\n",
        "d.execute(\"help\")"
      ]
    },
    {
      "cell_type": "code",
      "execution_count": 35,
      "metadata": {
        "tags": [
          "52",
          "53"
        ]
      },
      "outputs": [
        {
          "name": "stdout",
          "output_type": "stream",
          "text": [
            "Unknown command 'foo'. Possible commands are:\n",
            "continue   -- Resume execution\n",
            "help       -- Give help on given `command`. If no command is given, give help on all\n",
            "step       -- Execute up to the next line\n"
          ]
        }
      ],
      "source": [
        "d = Debugger()\n",
        "d.execute(\"foo\")"
      ]
    },
    {
      "cell_type": "markdown",
      "metadata": {
        "tags": [
          "53",
          "54"
        ]
      },
      "source": [
        "### End of Excursion"
      ]
    },
    {
      "cell_type": "markdown",
      "metadata": {
        "tags": [
          "54",
          "55"
        ]
      },
      "source": [
        "## Printing Values\n",
        "\n",
        "With `execute()`, we can now easily extend our class \u2013 all it takes is for a new command `NAME` is a new `NAME_command()` method. Let us start by providing a `print` command to print all variables. We use similar code as for the `Tracer` class in the [chapter on tracing](Tracer.ipynb)."
      ]
    },
    {
      "cell_type": "code",
      "execution_count": 36,
      "metadata": {
        "tags": [
          "55",
          "56"
        ]
      },
      "outputs": [],
      "source": [
        "class Debugger(Debugger):\n",
        "    def print_command(self, arg: str = \"\") -> None:\n",
        "        \"\"\"Print an expression. If no expression is given, print all variables\"\"\"\n",
        "\n",
        "        vars = self.local_vars\n",
        "        self.log(\"\\n\".join([f\"{var} = {repr(value)}\" for var, value in vars.items()]))"
      ]
    },
    {
      "cell_type": "code",
      "execution_count": 44,
      "metadata": {
        "tags": [
          "56",
          "57"
        ]
      },
      "outputs": [],
      "source": [
        "# ignore\n",
        "next_inputs([\"step\", \"step\", \"step\", \"print\", \"continue\"]);"
      ]
    },
    {
      "cell_type": "code",
      "execution_count": 45,
      "metadata": {
        "tags": [
          "57",
          "58"
        ]
      },
      "outputs": [
        {
          "name": "stdout",
          "output_type": "stream",
          "text": [
            "Calling remove_html_markup(s = 'abc')\n"
          ]
        },
        {
          "data": {
            "text/html": [
              "<samp>(debugger) <b>step</b></samp>"
            ],
            "text/plain": [
              "<IPython.core.display.HTML object>"
            ]
          },
          "metadata": {},
          "output_type": "display_data"
        },
        {
          "name": "stdout",
          "output_type": "stream",
          "text": [
            "2     tag = False\n"
          ]
        },
        {
          "data": {
            "text/html": [
              "<samp>(debugger) <b>step</b></samp>"
            ],
            "text/plain": [
              "<IPython.core.display.HTML object>"
            ]
          },
          "metadata": {},
          "output_type": "display_data"
        },
        {
          "name": "stdout",
          "output_type": "stream",
          "text": [
            "                                         # tag = False\n",
            "3     quote = False\n"
          ]
        },
        {
          "data": {
            "text/html": [
              "<samp>(debugger) <b>step</b></samp>"
            ],
            "text/plain": [
              "<IPython.core.display.HTML object>"
            ]
          },
          "metadata": {},
          "output_type": "display_data"
        },
        {
          "name": "stdout",
          "output_type": "stream",
          "text": [
            "                                         # quote = False\n",
            "4     out = \"\"\n"
          ]
        },
        {
          "data": {
            "text/html": [
              "<samp>(debugger) <b>print</b></samp>"
            ],
            "text/plain": [
              "<IPython.core.display.HTML object>"
            ]
          },
          "metadata": {},
          "output_type": "display_data"
        },
        {
          "name": "stdout",
          "output_type": "stream",
          "text": [
            "s = 'abc'\n",
            "tag = False\n",
            "quote = False\n"
          ]
        },
        {
          "data": {
            "text/html": [
              "<samp>(debugger) <b>continue</b></samp>"
            ],
            "text/plain": [
              "<IPython.core.display.HTML object>"
            ]
          },
          "metadata": {},
          "output_type": "display_data"
        }
      ],
      "source": [
        "with Debugger():\n",
        "    remove_html_markup('abc')"
      ]
    },
    {
      "cell_type": "code",
      "execution_count": 46,
      "metadata": {
        "tags": [
          "58",
          "59"
        ]
      },
      "outputs": [],
      "source": [
        "# docassert\n",
        "assert not next_inputs()"
      ]
    },
    {
      "cell_type": "markdown",
      "metadata": {
        "tags": [
          "59",
          "60"
        ]
      },
      "source": [
        "Let us extend `print` such that if an argument is given, it only evaluates and prints out this argument."
      ]
    },
    {
      "cell_type": "code",
      "execution_count": 47,
      "metadata": {
        "tags": [
          "60",
          "61"
        ]
      },
      "outputs": [],
      "source": [
        "class Debugger(Debugger):\n",
        "    def print_command(self, arg: str = \"\") -> None:\n",
        "        \"\"\"Print an expression. If no expression is given, print all variables\"\"\"\n",
        "\n",
        "        vars = self.local_vars\n",
        "\n",
        "        if not arg:\n",
        "            self.log(\"\\n\".join([f\"{var} = {repr(value)}\" for var, value in vars.items()]))\n",
        "        else:\n",
        "            try:\n",
        "                self.log(f\"{arg} = {repr(eval(arg, globals(), vars))}\")\n",
        "            except Exception as err:\n",
        "                self.log(f\"{err.__class__.__name__}: {err}\")"
      ]
    },
    {
      "cell_type": "code",
      "execution_count": 48,
      "metadata": {
        "tags": [
          "61",
          "62"
        ]
      },
      "outputs": [],
      "source": [
        "# ignore\n",
        "next_inputs([\"p s\", \"c\"]);"
      ]
    },
    {
      "cell_type": "code",
      "execution_count": 49,
      "metadata": {
        "tags": [
          "62",
          "63"
        ]
      },
      "outputs": [
        {
          "name": "stdout",
          "output_type": "stream",
          "text": [
            "Calling remove_html_markup(s = 'abc')\n"
          ]
        },
        {
          "data": {
            "text/html": [
              "<samp>(debugger) <b>p s</b></samp>"
            ],
            "text/plain": [
              "<IPython.core.display.HTML object>"
            ]
          },
          "metadata": {},
          "output_type": "display_data"
        },
        {
          "name": "stdout",
          "output_type": "stream",
          "text": [
            "s = 'abc'\n"
          ]
        },
        {
          "data": {
            "text/html": [
              "<samp>(debugger) <b>c</b></samp>"
            ],
            "text/plain": [
              "<IPython.core.display.HTML object>"
            ]
          },
          "metadata": {},
          "output_type": "display_data"
        }
      ],
      "source": [
        "with Debugger():\n",
        "    remove_html_markup('abc')"
      ]
    },
    {
      "cell_type": "code",
      "execution_count": 50,
      "metadata": {
        "tags": [
          "63",
          "64"
        ]
      },
      "outputs": [],
      "source": [
        "# docassert\n",
        "assert not next_inputs()"
      ]
    },
    {
      "cell_type": "markdown",
      "metadata": {
        "tags": [
          "64",
          "65"
        ]
      },
      "source": [
        "Note how we would abbreviate commands to speed things up. The argument to `print` can be any Python expression:"
      ]
    },
    {
      "cell_type": "code",
      "execution_count": 51,
      "metadata": {
        "tags": [
          "65",
          "66"
        ]
      },
      "outputs": [],
      "source": [
        "# ignore\n",
        "next_inputs([\"print (s[0], 2 + 2)\", \"continue\"]);"
      ]
    },
    {
      "cell_type": "code",
      "execution_count": 52,
      "metadata": {
        "tags": [
          "66",
          "67"
        ]
      },
      "outputs": [
        {
          "name": "stdout",
          "output_type": "stream",
          "text": [
            "Calling remove_html_markup(s = 'abc')\n"
          ]
        },
        {
          "data": {
            "text/html": [
              "<samp>(debugger) <b>print (s[0], 2 + 2)</b></samp>"
            ],
            "text/plain": [
              "<IPython.core.display.HTML object>"
            ]
          },
          "metadata": {},
          "output_type": "display_data"
        },
        {
          "name": "stdout",
          "output_type": "stream",
          "text": [
            "(s[0], 2 + 2) = ('a', 4)\n"
          ]
        },
        {
          "data": {
            "text/html": [
              "<samp>(debugger) <b>continue</b></samp>"
            ],
            "text/plain": [
              "<IPython.core.display.HTML object>"
            ]
          },
          "metadata": {},
          "output_type": "display_data"
        }
      ],
      "source": [
        "with Debugger():\n",
        "    remove_html_markup('abc')"
      ]
    },
    {
      "cell_type": "markdown",
      "metadata": {
        "tags": [
          "67",
          "68"
        ]
      },
      "source": [
        "Our `help` command also properly lists `print` as a possible command:"
      ]
    },
    {
      "cell_type": "code",
      "execution_count": 53,
      "metadata": {
        "tags": [
          "68",
          "69"
        ]
      },
      "outputs": [],
      "source": [
        "# ignore\n",
        "next_inputs([\"help print\", \"continue\"]);"
      ]
    },
    {
      "cell_type": "code",
      "execution_count": 54,
      "metadata": {
        "tags": [
          "69",
          "70"
        ]
      },
      "outputs": [
        {
          "name": "stdout",
          "output_type": "stream",
          "text": [
            "Calling remove_html_markup(s = 'abc')\n"
          ]
        },
        {
          "data": {
            "text/html": [
              "<samp>(debugger) <b>help print</b></samp>"
            ],
            "text/plain": [
              "<IPython.core.display.HTML object>"
            ]
          },
          "metadata": {},
          "output_type": "display_data"
        },
        {
          "name": "stdout",
          "output_type": "stream",
          "text": [
            "print      -- Print an expression. If no expression is given, print all variables\n"
          ]
        },
        {
          "data": {
            "text/html": [
              "<samp>(debugger) <b>continue</b></samp>"
            ],
            "text/plain": [
              "<IPython.core.display.HTML object>"
            ]
          },
          "metadata": {},
          "output_type": "display_data"
        }
      ],
      "source": [
        "with Debugger():\n",
        "    remove_html_markup('abc')"
      ]
    },
    {
      "cell_type": "code",
      "execution_count": 55,
      "metadata": {
        "tags": [
          "70",
          "71"
        ]
      },
      "outputs": [],
      "source": [
        "# docassert\n",
        "assert not next_inputs()"
      ]
    },
    {
      "cell_type": "markdown",
      "metadata": {
        "tags": [
          "71",
          "72"
        ]
      },
      "source": [
        "## Listing Source Code\n",
        "\n",
        "We implement a `list` command that shows the source code of the current function."
      ]
    },
    {
      "cell_type": "code",
      "execution_count": 56,
      "metadata": {
        "tags": [
          "72",
          "73"
        ]
      },
      "outputs": [],
      "source": [
        "import inspect"
      ]
    },
    {
      "cell_type": "code",
      "execution_count": 57,
      "metadata": {
        "tags": [
          "73",
          "74"
        ]
      },
      "outputs": [],
      "source": [
        "from bookutils import getsourcelines  # like inspect.getsourcelines(), but in color"
      ]
    },
    {
      "cell_type": "code",
      "execution_count": 58,
      "metadata": {
        "tags": [
          "74",
          "75"
        ]
      },
      "outputs": [],
      "source": [
        "class Debugger(Debugger):\n",
        "    def list_command(self, arg: str = \"\") -> None:\n",
        "        \"\"\"Show current function.\"\"\"\n",
        "\n",
        "        source_lines, line_number = getsourcelines(self.frame.f_code)\n",
        "\n",
        "        for line in source_lines:\n",
        "            self.log(f'{line_number:4} {line}', end='')\n",
        "            line_number += 1"
      ]
    },
    {
      "cell_type": "code",
      "execution_count": 59,
      "metadata": {
        "tags": [
          "75",
          "76"
        ]
      },
      "outputs": [],
      "source": [
        "# ignore\n",
        "next_inputs([\"list\", \"continue\"]);"
      ]
    },
    {
      "cell_type": "code",
      "execution_count": 60,
      "metadata": {
        "tags": [
          "76",
          "77"
        ]
      },
      "outputs": [
        {
          "name": "stdout",
          "output_type": "stream",
          "text": [
            "Calling remove_html_markup(s = 'abc')\n"
          ]
        },
        {
          "data": {
            "text/html": [
              "<samp>(debugger) <b>list</b></samp>"
            ],
            "text/plain": [
              "<IPython.core.display.HTML object>"
            ]
          },
          "metadata": {},
          "output_type": "display_data"
        },
        {
          "name": "stdout",
          "output_type": "stream",
          "text": [
            "   1 \u001b[34mdef\u001b[39;49;00m \u001b[32mremove_html_markup\u001b[39;49;00m(s):  \u001b[37m# type: ignore\u001b[39;49;00m\u001b[37m\u001b[39;49;00m\n",
            "   2     tag = \u001b[34mFalse\u001b[39;49;00m\u001b[37m\u001b[39;49;00m\n",
            "   3     quote = \u001b[34mFalse\u001b[39;49;00m\u001b[37m\u001b[39;49;00m\n",
            "   4     out = \u001b[33m\"\u001b[39;49;00m\u001b[33m\"\u001b[39;49;00m\u001b[37m\u001b[39;49;00m\n",
            "   5 \u001b[37m\u001b[39;49;00m\n",
            "   6     \u001b[34mfor\u001b[39;49;00m c \u001b[35min\u001b[39;49;00m s:\u001b[37m\u001b[39;49;00m\n",
            "   7         \u001b[34mif\u001b[39;49;00m c == \u001b[33m'\u001b[39;49;00m\u001b[33m<\u001b[39;49;00m\u001b[33m'\u001b[39;49;00m \u001b[35mand\u001b[39;49;00m \u001b[35mnot\u001b[39;49;00m quote:\u001b[37m\u001b[39;49;00m\n",
            "   8             tag = \u001b[34mTrue\u001b[39;49;00m\u001b[37m\u001b[39;49;00m\n",
            "   9         \u001b[34melif\u001b[39;49;00m c == \u001b[33m'\u001b[39;49;00m\u001b[33m>\u001b[39;49;00m\u001b[33m'\u001b[39;49;00m \u001b[35mand\u001b[39;49;00m \u001b[35mnot\u001b[39;49;00m quote:\u001b[37m\u001b[39;49;00m\n",
            "  10             tag = \u001b[34mFalse\u001b[39;49;00m\u001b[37m\u001b[39;49;00m\n",
            "  11         \u001b[34melif\u001b[39;49;00m c == \u001b[33m'\u001b[39;49;00m\u001b[33m\"\u001b[39;49;00m\u001b[33m'\u001b[39;49;00m \u001b[35mor\u001b[39;49;00m c == \u001b[33m\"\u001b[39;49;00m\u001b[33m'\u001b[39;49;00m\u001b[33m\"\u001b[39;49;00m \u001b[35mand\u001b[39;49;00m tag:\u001b[37m\u001b[39;49;00m\n",
            "  12             quote = \u001b[35mnot\u001b[39;49;00m quote\u001b[37m\u001b[39;49;00m\n",
            "  13         \u001b[34melif\u001b[39;49;00m \u001b[35mnot\u001b[39;49;00m tag:\u001b[37m\u001b[39;49;00m\n",
            "  14             out = out + c\u001b[37m\u001b[39;49;00m\n",
            "  15 \u001b[37m\u001b[39;49;00m\n",
            "  16     \u001b[34mreturn\u001b[39;49;00m out\u001b[37m\u001b[39;49;00m\n"
          ]
        },
        {
          "data": {
            "text/html": [
              "<samp>(debugger) <b>continue</b></samp>"
            ],
            "text/plain": [
              "<IPython.core.display.HTML object>"
            ]
          },
          "metadata": {},
          "output_type": "display_data"
        }
      ],
      "source": [
        "with Debugger():\n",
        "    remove_html_markup('abc')"
      ]
    },
    {
      "cell_type": "code",
      "execution_count": 61,
      "metadata": {
        "tags": [
          "77",
          "78"
        ]
      },
      "outputs": [],
      "source": [
        "# docassert\n",
        "assert not next_inputs()"
      ]
    },
    {
      "cell_type": "markdown",
      "metadata": {
        "tags": [
          "78",
          "79"
        ]
      },
      "source": [
        "## Setting Breakpoints\n",
        "\n",
        "Stepping through the program line by line is a bit cumbersome. We therefore implement _breakpoints_ \u2013 a set of lines that cause the program to be interrupted as soon as this line is met."
      ]
    },
    {
      "cell_type": "code",
      "execution_count": 62,
      "metadata": {
        "tags": [
          "79",
          "80"
        ]
      },
      "outputs": [],
      "source": [
        "class Debugger(Debugger):\n",
        "    def break_command(self, arg: str = \"\") -> None:\n",
        "        \"\"\"Set a breakoint in given line. If no line is given, list all breakpoints\"\"\"\n",
        "\n",
        "        if arg:\n",
        "            self.breakpoints.add(int(arg))\n",
        "        self.log(\"Breakpoints:\", self.breakpoints)"
      ]
    },
    {
      "cell_type": "markdown",
      "metadata": {
        "tags": [
          "80",
          "81"
        ]
      },
      "source": [
        "Here's an example, setting a breakpoint at the end of the loop:"
      ]
    },
    {
      "cell_type": "code",
      "execution_count": 68,
      "metadata": {
        "tags": [
          "81",
          "82"
        ]
      },
      "outputs": [],
      "source": [
        "# ignore\n",
        "_, remove_html_markup_starting_line_number = \\\n",
        "    inspect.getsourcelines(remove_html_markup)\n",
        "next_inputs([f\"break {remove_html_markup_starting_line_number + 13}\",\n",
        "             \"continue\", \"print\", \"continue\", \"continue\", \"continue\"]);"
      ]
    },
    {
      "cell_type": "code",
      "execution_count": 69,
      "metadata": {
        "tags": [
          "82",
          "83"
        ]
      },
      "outputs": [
        {
          "name": "stdout",
          "output_type": "stream",
          "text": [
            "Calling remove_html_markup(s = 'abc')\n"
          ]
        },
        {
          "data": {
            "text/html": [
              "<samp>(debugger) <b>break 14</b></samp>"
            ],
            "text/plain": [
              "<IPython.core.display.HTML object>"
            ]
          },
          "metadata": {},
          "output_type": "display_data"
        },
        {
          "name": "stdout",
          "output_type": "stream",
          "text": [
            "Breakpoints: {14}\n"
          ]
        },
        {
          "data": {
            "text/html": [
              "<samp>(debugger) <b>continue</b></samp>"
            ],
            "text/plain": [
              "<IPython.core.display.HTML object>"
            ]
          },
          "metadata": {},
          "output_type": "display_data"
        },
        {
          "name": "stdout",
          "output_type": "stream",
          "text": [
            "                                         # tag = False, quote = False, out = '', c = 'a'\n",
            "14             out = out + c\n"
          ]
        },
        {
          "data": {
            "text/html": [
              "<samp>(debugger) <b>print</b></samp>"
            ],
            "text/plain": [
              "<IPython.core.display.HTML object>"
            ]
          },
          "metadata": {},
          "output_type": "display_data"
        },
        {
          "name": "stdout",
          "output_type": "stream",
          "text": [
            "s = 'abc'\n",
            "tag = False\n",
            "quote = False\n",
            "out = ''\n",
            "c = 'a'\n"
          ]
        },
        {
          "data": {
            "text/html": [
              "<samp>(debugger) <b>continue</b></samp>"
            ],
            "text/plain": [
              "<IPython.core.display.HTML object>"
            ]
          },
          "metadata": {},
          "output_type": "display_data"
        },
        {
          "name": "stdout",
          "output_type": "stream",
          "text": [
            "                                         # out = 'a', c = 'b'\n",
            "14             out = out + c\n"
          ]
        },
        {
          "data": {
            "text/html": [
              "<samp>(debugger) <b>continue</b></samp>"
            ],
            "text/plain": [
              "<IPython.core.display.HTML object>"
            ]
          },
          "metadata": {},
          "output_type": "display_data"
        },
        {
          "name": "stdout",
          "output_type": "stream",
          "text": [
            "                                         # out = 'ab', c = 'c'\n",
            "14             out = out + c\n"
          ]
        },
        {
          "data": {
            "text/html": [
              "<samp>(debugger) <b>continue</b></samp>"
            ],
            "text/plain": [
              "<IPython.core.display.HTML object>"
            ]
          },
          "metadata": {},
          "output_type": "display_data"
        }
      ],
      "source": [
        "with Debugger():\n",
        "    remove_html_markup('abc')"
      ]
    },
    {
      "cell_type": "code",
      "execution_count": 70,
      "metadata": {
        "tags": [
          "83",
          "84"
        ]
      },
      "outputs": [],
      "source": [
        "# docassert\n",
        "assert not next_inputs()"
      ]
    },
    {
      "cell_type": "code",
      "execution_count": 71,
      "metadata": {
        "tags": [
          "84",
          "85"
        ]
      },
      "outputs": [],
      "source": [
        "from bookutils import quiz"
      ]
    },
    {
      "cell_type": "code",
      "execution_count": null,
      "metadata": {
        "tags": [
          "85",
          "86"
        ]
      },
      "outputs": [],
      "source": [
        "quiz(\"What happens if we enter the command `break 2 + 3`?\",\n",
        "     [\n",
        "         \"A breakpoint is set in Line 2.\",\n",
        "         \"A breakpoint is set in Line 5.\",\n",
        "         \"Two breakpoints are set in Lines 2 and 3.\",\n",
        "         \"The debugger raises a `ValueError` exception.\"\n",
        "     ], '12345 % 7')"
      ]
    },
    {
      "cell_type": "markdown",
      "metadata": {
        "tags": [
          "86",
          "87"
        ]
      },
      "source": [
        "Try it out yourself by executing the above code block!"
      ]
    },
    {
      "cell_type": "markdown",
      "metadata": {
        "tags": [
          "87",
          "88"
        ]
      },
      "source": [
        "## Deleting Breakpoints\n",
        "\n",
        "To delete breakpoints, we introduce a `delete` command:"
      ]
    },
    {
      "cell_type": "code",
      "execution_count": 72,
      "metadata": {
        "tags": [
          "88",
          "89"
        ]
      },
      "outputs": [],
      "source": [
        "class Debugger(Debugger):\n",
        "    def delete_command(self, arg: str = \"\") -> None:\n",
        "        \"\"\"Delete breakoint in line given by `arg`.\n",
        "           Without given line, clear all breakpoints\"\"\"\n",
        "\n",
        "        if arg:\n",
        "            try:\n",
        "                self.breakpoints.remove(int(arg))\n",
        "            except KeyError:\n",
        "                self.log(f\"No such breakpoint: {arg}\")\n",
        "        else:\n",
        "            self.breakpoints = set()\n",
        "        self.log(\"Breakpoints:\", self.breakpoints)"
      ]
    },
    {
      "cell_type": "code",
      "execution_count": 73,
      "metadata": {
        "tags": [
          "89",
          "90"
        ]
      },
      "outputs": [],
      "source": [
        "# ignore\n",
        "next_inputs([f\"break {remove_html_markup_starting_line_number + 15}\",\n",
        "             \"continue\", \"print\",\n",
        "             f\"delete {remove_html_markup_starting_line_number + 15}\",\n",
        "             \"continue\"]);"
      ]
    },
    {
      "cell_type": "code",
      "execution_count": 74,
      "metadata": {
        "tags": [
          "90",
          "91"
        ]
      },
      "outputs": [
        {
          "name": "stdout",
          "output_type": "stream",
          "text": [
            "Calling remove_html_markup(s = 'abc')\n"
          ]
        },
        {
          "data": {
            "text/html": [
              "<samp>(debugger) <b>break 16</b></samp>"
            ],
            "text/plain": [
              "<IPython.core.display.HTML object>"
            ]
          },
          "metadata": {},
          "output_type": "display_data"
        },
        {
          "name": "stdout",
          "output_type": "stream",
          "text": [
            "Breakpoints: {16}\n"
          ]
        },
        {
          "data": {
            "text/html": [
              "<samp>(debugger) <b>continue</b></samp>"
            ],
            "text/plain": [
              "<IPython.core.display.HTML object>"
            ]
          },
          "metadata": {},
          "output_type": "display_data"
        },
        {
          "name": "stdout",
          "output_type": "stream",
          "text": [
            "                                         # tag = False, quote = False, out = 'abc', c = 'c'\n",
            "16     return out\n"
          ]
        },
        {
          "data": {
            "text/html": [
              "<samp>(debugger) <b>print</b></samp>"
            ],
            "text/plain": [
              "<IPython.core.display.HTML object>"
            ]
          },
          "metadata": {},
          "output_type": "display_data"
        },
        {
          "name": "stdout",
          "output_type": "stream",
          "text": [
            "s = 'abc'\n",
            "tag = False\n",
            "quote = False\n",
            "out = 'abc'\n",
            "c = 'c'\n"
          ]
        },
        {
          "data": {
            "text/html": [
              "<samp>(debugger) <b>delete 16</b></samp>"
            ],
            "text/plain": [
              "<IPython.core.display.HTML object>"
            ]
          },
          "metadata": {},
          "output_type": "display_data"
        },
        {
          "name": "stdout",
          "output_type": "stream",
          "text": [
            "Breakpoints: set()\n"
          ]
        },
        {
          "data": {
            "text/html": [
              "<samp>(debugger) <b>continue</b></samp>"
            ],
            "text/plain": [
              "<IPython.core.display.HTML object>"
            ]
          },
          "metadata": {},
          "output_type": "display_data"
        }
      ],
      "source": [
        "with Debugger():\n",
        "    remove_html_markup('abc')"
      ]
    },
    {
      "cell_type": "code",
      "execution_count": 78,
      "metadata": {
        "tags": [
          "91",
          "92"
        ]
      },
      "outputs": [],
      "source": [
        "# docassert\n",
        "assert not next_inputs()"
      ]
    },
    {
      "cell_type": "code",
      "execution_count": null,
      "metadata": {
        "tags": [
          "92",
          "93"
        ]
      },
      "outputs": [],
      "source": [
        "quiz(\"What does the command `delete` (without argument) do?\",\n",
        "    [\n",
        "        \"It deletes all breakpoints\",\n",
        "        \"It deletes the source code\",\n",
        "        \"It lists all breakpoints\",\n",
        "        \"It stops execution\"\n",
        "    ],\n",
        "    '[n for n in range(2 // 2, 2 * 2) if n % 2 / 2]'\n",
        "    )"
      ]
    },
    {
      "cell_type": "markdown",
      "metadata": {
        "tags": [
          "93",
          "94"
        ]
      },
      "source": [
        "## Listings with Benefits\n",
        "\n",
        "Let us extend `list` a bit such that \n",
        "\n",
        "1. it can also list a given function, and \n",
        "2. it shows the current line (`>`) as well as breakpoints (`#`)"
      ]
    },
    {
      "cell_type": "code",
      "execution_count": 79,
      "metadata": {
        "tags": [
          "94",
          "95"
        ]
      },
      "outputs": [],
      "source": [
        "class Debugger(Debugger):\n",
        "    def list_command(self, arg: str = \"\") -> None:\n",
        "        \"\"\"Show current function. If `arg` is given, show its source code.\"\"\"\n",
        "\n",
        "        try:\n",
        "            if arg:\n",
        "                obj = eval(arg)\n",
        "                source_lines, line_number = inspect.getsourcelines(obj)\n",
        "                current_line = -1\n",
        "            else:\n",
        "                source_lines, line_number = \\\n",
        "                    getsourcelines(self.frame.f_code)\n",
        "                current_line = self.frame.f_lineno\n",
        "        except Exception as err:\n",
        "            self.log(f\"{err.__class__.__name__}: {err}\")\n",
        "            source_lines = []\n",
        "            line_number = 0\n",
        "\n",
        "        for line in source_lines:\n",
        "            spacer = ' '\n",
        "            if line_number == current_line:\n",
        "                spacer = '>'\n",
        "            elif line_number in self.breakpoints:\n",
        "                spacer = '#'\n",
        "            self.log(f'{line_number:4}{spacer} {line}', end='')\n",
        "            line_number += 1"
      ]
    },
    {
      "cell_type": "code",
      "execution_count": 80,
      "metadata": {
        "tags": [
          "95",
          "96"
        ]
      },
      "outputs": [],
      "source": [
        "# ignore\n",
        "_, remove_html_markup_starting_line_number = \\\n",
        "    inspect.getsourcelines(remove_html_markup)\n",
        "next_inputs([f\"break {remove_html_markup_starting_line_number + 13}\",\n",
        "             \"list\", \"continue\", \"delete\", \"list\", \"continue\"]);"
      ]
    },
    {
      "cell_type": "code",
      "execution_count": 77,
      "metadata": {
        "tags": [
          "96",
          "97"
        ]
      },
      "outputs": [
        {
          "name": "stdout",
          "output_type": "stream",
          "text": [
            "Calling remove_html_markup(s = 'abc')\n"
          ]
        },
        {
          "data": {
            "text/html": [
              "<samp>(debugger) <b>break 14</b></samp>"
            ],
            "text/plain": [
              "<IPython.core.display.HTML object>"
            ]
          },
          "metadata": {},
          "output_type": "display_data"
        },
        {
          "name": "stdout",
          "output_type": "stream",
          "text": [
            "Breakpoints: {14}\n"
          ]
        },
        {
          "data": {
            "text/html": [
              "<samp>(debugger) <b>list</b></samp>"
            ],
            "text/plain": [
              "<IPython.core.display.HTML object>"
            ]
          },
          "metadata": {},
          "output_type": "display_data"
        },
        {
          "name": "stdout",
          "output_type": "stream",
          "text": [
            "   1> \u001b[34mdef\u001b[39;49;00m \u001b[32mremove_html_markup\u001b[39;49;00m(s):  \u001b[37m# type: ignore\u001b[39;49;00m\u001b[37m\u001b[39;49;00m\n",
            "   2      tag = \u001b[34mFalse\u001b[39;49;00m\u001b[37m\u001b[39;49;00m\n",
            "   3      quote = \u001b[34mFalse\u001b[39;49;00m\u001b[37m\u001b[39;49;00m\n",
            "   4      out = \u001b[33m\"\u001b[39;49;00m\u001b[33m\"\u001b[39;49;00m\u001b[37m\u001b[39;49;00m\n",
            "   5  \u001b[37m\u001b[39;49;00m\n",
            "   6      \u001b[34mfor\u001b[39;49;00m c \u001b[35min\u001b[39;49;00m s:\u001b[37m\u001b[39;49;00m\n",
            "   7          \u001b[34mif\u001b[39;49;00m c == \u001b[33m'\u001b[39;49;00m\u001b[33m<\u001b[39;49;00m\u001b[33m'\u001b[39;49;00m \u001b[35mand\u001b[39;49;00m \u001b[35mnot\u001b[39;49;00m quote:\u001b[37m\u001b[39;49;00m\n",
            "   8              tag = \u001b[34mTrue\u001b[39;49;00m\u001b[37m\u001b[39;49;00m\n",
            "   9          \u001b[34melif\u001b[39;49;00m c == \u001b[33m'\u001b[39;49;00m\u001b[33m>\u001b[39;49;00m\u001b[33m'\u001b[39;49;00m \u001b[35mand\u001b[39;49;00m \u001b[35mnot\u001b[39;49;00m quote:\u001b[37m\u001b[39;49;00m\n",
            "  10              tag = \u001b[34mFalse\u001b[39;49;00m\u001b[37m\u001b[39;49;00m\n",
            "  11          \u001b[34melif\u001b[39;49;00m c == \u001b[33m'\u001b[39;49;00m\u001b[33m\"\u001b[39;49;00m\u001b[33m'\u001b[39;49;00m \u001b[35mor\u001b[39;49;00m c == \u001b[33m\"\u001b[39;49;00m\u001b[33m'\u001b[39;49;00m\u001b[33m\"\u001b[39;49;00m \u001b[35mand\u001b[39;49;00m tag:\u001b[37m\u001b[39;49;00m\n",
            "  12              quote = \u001b[35mnot\u001b[39;49;00m quote\u001b[37m\u001b[39;49;00m\n",
            "  13          \u001b[34melif\u001b[39;49;00m \u001b[35mnot\u001b[39;49;00m tag:\u001b[37m\u001b[39;49;00m\n",
            "  14#             out = out + c\u001b[37m\u001b[39;49;00m\n",
            "  15  \u001b[37m\u001b[39;49;00m\n",
            "  16      \u001b[34mreturn\u001b[39;49;00m out\u001b[37m\u001b[39;49;00m\n"
          ]
        },
        {
          "data": {
            "text/html": [
              "<samp>(debugger) <b>continue</b></samp>"
            ],
            "text/plain": [
              "<IPython.core.display.HTML object>"
            ]
          },
          "metadata": {},
          "output_type": "display_data"
        },
        {
          "name": "stdout",
          "output_type": "stream",
          "text": [
            "                                         # tag = False, quote = False, out = '', c = 'a'\n",
            "14             out = out + c\n"
          ]
        },
        {
          "data": {
            "text/html": [
              "<samp>(debugger) <b>delete</b></samp>"
            ],
            "text/plain": [
              "<IPython.core.display.HTML object>"
            ]
          },
          "metadata": {},
          "output_type": "display_data"
        },
        {
          "name": "stdout",
          "output_type": "stream",
          "text": [
            "Breakpoints: set()\n"
          ]
        },
        {
          "data": {
            "text/html": [
              "<samp>(debugger) <b>list</b></samp>"
            ],
            "text/plain": [
              "<IPython.core.display.HTML object>"
            ]
          },
          "metadata": {},
          "output_type": "display_data"
        },
        {
          "name": "stdout",
          "output_type": "stream",
          "text": [
            "   1  \u001b[34mdef\u001b[39;49;00m \u001b[32mremove_html_markup\u001b[39;49;00m(s):  \u001b[37m# type: ignore\u001b[39;49;00m\u001b[37m\u001b[39;49;00m\n",
            "   2      tag = \u001b[34mFalse\u001b[39;49;00m\u001b[37m\u001b[39;49;00m\n",
            "   3      quote = \u001b[34mFalse\u001b[39;49;00m\u001b[37m\u001b[39;49;00m\n",
            "   4      out = \u001b[33m\"\u001b[39;49;00m\u001b[33m\"\u001b[39;49;00m\u001b[37m\u001b[39;49;00m\n",
            "   5  \u001b[37m\u001b[39;49;00m\n",
            "   6      \u001b[34mfor\u001b[39;49;00m c \u001b[35min\u001b[39;49;00m s:\u001b[37m\u001b[39;49;00m\n",
            "   7          \u001b[34mif\u001b[39;49;00m c == \u001b[33m'\u001b[39;49;00m\u001b[33m<\u001b[39;49;00m\u001b[33m'\u001b[39;49;00m \u001b[35mand\u001b[39;49;00m \u001b[35mnot\u001b[39;49;00m quote:\u001b[37m\u001b[39;49;00m\n",
            "   8              tag = \u001b[34mTrue\u001b[39;49;00m\u001b[37m\u001b[39;49;00m\n",
            "   9          \u001b[34melif\u001b[39;49;00m c == \u001b[33m'\u001b[39;49;00m\u001b[33m>\u001b[39;49;00m\u001b[33m'\u001b[39;49;00m \u001b[35mand\u001b[39;49;00m \u001b[35mnot\u001b[39;49;00m quote:\u001b[37m\u001b[39;49;00m\n",
            "  10              tag = \u001b[34mFalse\u001b[39;49;00m\u001b[37m\u001b[39;49;00m\n",
            "  11          \u001b[34melif\u001b[39;49;00m c == \u001b[33m'\u001b[39;49;00m\u001b[33m\"\u001b[39;49;00m\u001b[33m'\u001b[39;49;00m \u001b[35mor\u001b[39;49;00m c == \u001b[33m\"\u001b[39;49;00m\u001b[33m'\u001b[39;49;00m\u001b[33m\"\u001b[39;49;00m \u001b[35mand\u001b[39;49;00m tag:\u001b[37m\u001b[39;49;00m\n",
            "  12              quote = \u001b[35mnot\u001b[39;49;00m quote\u001b[37m\u001b[39;49;00m\n",
            "  13          \u001b[34melif\u001b[39;49;00m \u001b[35mnot\u001b[39;49;00m tag:\u001b[37m\u001b[39;49;00m\n",
            "  14>             out = out + c\u001b[37m\u001b[39;49;00m\n",
            "  15  \u001b[37m\u001b[39;49;00m\n",
            "  16      \u001b[34mreturn\u001b[39;49;00m out\u001b[37m\u001b[39;49;00m\n"
          ]
        },
        {
          "data": {
            "text/html": [
              "<samp>(debugger) <b>continue</b></samp>"
            ],
            "text/plain": [
              "<IPython.core.display.HTML object>"
            ]
          },
          "metadata": {},
          "output_type": "display_data"
        }
      ],
      "source": [
        "with Debugger():\n",
        "    remove_html_markup('abc')"
      ]
    },
    {
      "cell_type": "code",
      "execution_count": 86,
      "metadata": {
        "tags": [
          "97",
          "98"
        ]
      },
      "outputs": [
        {
          "ename": "AssertionError",
          "evalue": "",
          "output_type": "error",
          "traceback": [
            "\u001b[0;31m---------------------------------------------------------------------------\u001b[0m",
            "\u001b[0;31mAssertionError\u001b[0m                            Traceback (most recent call last)",
            "Cell \u001b[0;32mIn[86], line 2\u001b[0m\n\u001b[1;32m      1\u001b[0m \u001b[38;5;66;03m# docassert\u001b[39;00m\n\u001b[0;32m----> 2\u001b[0m \u001b[38;5;28;01massert\u001b[39;00m \u001b[38;5;129;01mnot\u001b[39;00m next_inputs()\n",
            "\u001b[0;31mAssertionError\u001b[0m: "
          ]
        }
      ],
      "source": [
        "# docassert\n",
        "assert not next_inputs()"
      ]
    },
    {
      "cell_type": "markdown",
      "metadata": {
        "tags": [
          "98",
          "99"
        ]
      },
      "source": [
        "### Quitting\n",
        "\n",
        "In the Python debugger interface, we can only observe, but not alter the control flow. To make sure we can always exit out of our debugging session, we introduce a `quit` command that deletes all breakpoints and resumes execution until the observed function finishes."
      ]
    },
    {
      "cell_type": "code",
      "execution_count": 82,
      "metadata": {
        "tags": [
          "99",
          "100"
        ]
      },
      "outputs": [],
      "source": [
        "class Debugger(Debugger):\n",
        "    def quit_command(self, arg: str = \"\") -> None:\n",
        "        \"\"\"Finish execution\"\"\"\n",
        "\n",
        "        self.breakpoints = set()\n",
        "        self.stepping = False\n",
        "        self.interact = False"
      ]
    },
    {
      "cell_type": "markdown",
      "metadata": {
        "tags": [
          "100",
          "101"
        ]
      },
      "source": [
        "With this, our command palette is pretty complete, and we can use our debugger to happily inspect Python executions."
      ]
    },
    {
      "cell_type": "code",
      "execution_count": 87,
      "metadata": {
        "tags": [
          "101",
          "102"
        ]
      },
      "outputs": [],
      "source": [
        "# ignore\n",
        "next_inputs([\"help\", \"quit\"]);"
      ]
    },
    {
      "cell_type": "code",
      "execution_count": 90,
      "metadata": {
        "tags": [
          "102",
          "103"
        ]
      },
      "outputs": [
        {
          "name": "stdout",
          "output_type": "stream",
          "text": [
            "Calling remove_html_markup(s = 'abc')\n"
          ]
        },
        {
          "data": {
            "text/html": [
              "<samp>(debugger) <b>help</b></samp>"
            ],
            "text/plain": [
              "<IPython.core.display.HTML object>"
            ]
          },
          "metadata": {},
          "output_type": "display_data"
        },
        {
          "name": "stdout",
          "output_type": "stream",
          "text": [
            "break      -- Set a breakoint in given line. If no line is given, list all breakpoints\n",
            "continue   -- Resume execution\n",
            "delete     -- Delete breakoint in line given by `arg`.\n",
            "           Without given line, clear all breakpoints\n",
            "help       -- Give help on given `command`. If no command is given, give help on all\n",
            "list       -- Show current function. If `arg` is given, show its source code.\n",
            "print      -- Print an expression. If no expression is given, print all variables\n",
            "quit       -- Finish execution\n",
            "step       -- Execute up to the next line\n"
          ]
        },
        {
          "data": {
            "text/html": [
              "<samp>(debugger) <b>quit</b></samp>"
            ],
            "text/plain": [
              "<IPython.core.display.HTML object>"
            ]
          },
          "metadata": {},
          "output_type": "display_data"
        }
      ],
      "source": [
        "with Debugger():\n",
        "    remove_html_markup('abc')"
      ]
    },
    {
      "cell_type": "code",
      "execution_count": 91,
      "metadata": {
        "tags": [
          "103",
          "104"
        ]
      },
      "outputs": [],
      "source": [
        "# docassert\n",
        "assert not next_inputs()"
      ]
    },
    {
      "cell_type": "markdown",
      "metadata": {
        "tags": [
          "104",
          "105"
        ]
      },
      "source": [
        "## Synopsis"
      ]
    },
    {
      "cell_type": "markdown",
      "metadata": {
        "tags": [
          "105",
          "106"
        ]
      },
      "source": [
        "This chapter provides an interactive debugger for Python functions. The debugger is invoked as\n",
        "\n",
        "```python\n",
        "with Debugger():\n",
        "    function_to_be_observed()\n",
        "    ...\n",
        "```\n",
        "While running, you can enter _debugger commands_ at the `(debugger)` prompt. Here's an example session:"
      ]
    },
    {
      "cell_type": "code",
      "execution_count": null,
      "metadata": {
        "tags": [
          "106",
          "107"
        ]
      },
      "outputs": [],
      "source": [
        "# ignore\n",
        "_, remove_html_markup_starting_line_number = \\\n",
        "    inspect.getsourcelines(remove_html_markup)\n",
        "next_inputs([\"help\", f\"break {remove_html_markup_starting_line_number + 13}\",\n",
        "             \"list\", \"continue\", \"step\", \"print out\", \"quit\"])\n",
        "pass"
      ]
    },
    {
      "cell_type": "code",
      "execution_count": null,
      "metadata": {
        "tags": [
          "107",
          "108"
        ]
      },
      "outputs": [],
      "source": [
        "with Debugger():\n",
        "    ret = remove_html_markup('abc')"
      ]
    },
    {
      "cell_type": "code",
      "execution_count": null,
      "metadata": {
        "tags": [
          "108",
          "109"
        ]
      },
      "outputs": [],
      "source": [
        "# docassert\n",
        "assert not next_inputs()"
      ]
    },
    {
      "cell_type": "markdown",
      "metadata": {
        "tags": [
          "109",
          "110"
        ]
      },
      "source": [
        "The `Debugger` class can be easily extended in subclasses. A new method `NAME_command(self, arg)` will be invoked whenever a command named `NAME` is entered, with `arg` holding given command arguments (empty string if none)."
      ]
    },
    {
      "cell_type": "code",
      "execution_count": null,
      "metadata": {
        "tags": [
          "110",
          "111"
        ]
      },
      "outputs": [],
      "source": [
        "# ignore\n",
        "from ClassDiagram import display_class_hierarchy"
      ]
    },
    {
      "cell_type": "code",
      "execution_count": null,
      "metadata": {
        "tags": [
          "111",
          "112"
        ]
      },
      "outputs": [],
      "source": [
        "# ignore\n",
        "display_class_hierarchy(Debugger, \n",
        "                        public_methods=[\n",
        "                            Tracer.__init__,\n",
        "                            Tracer.__enter__,\n",
        "                            Tracer.__exit__,\n",
        "                            Tracer.traceit,\n",
        "                            Debugger.__init__,\n",
        "                        ],\n",
        "    project='debuggingbook')"
      ]
    },
    {
      "cell_type": "markdown",
      "metadata": {
        "button": false,
        "new_sheet": true,
        "run_control": {
          "read_only": false
        },
        "tags": [
          "112",
          "113"
        ]
      },
      "source": [
        "## Lessons Learned\n",
        "\n",
        "* _Debugging hooks_ from interpreted languages allow for simple interactive debugging.\n",
        "* A command-line debugging framework can be very easily extended with additional functionality."
      ]
    },
    {
      "cell_type": "markdown",
      "metadata": {
        "button": false,
        "new_sheet": false,
        "run_control": {
          "read_only": false
        },
        "tags": [
          "113",
          "114"
        ]
      },
      "source": [
        "## Next Steps\n",
        "\n",
        "In the next chapter, we will see how [assertions](Assertions.ipynb) check correctness at runtime."
      ]
    },
    {
      "cell_type": "markdown",
      "metadata": {
        "tags": [
          "114",
          "115"
        ]
      },
      "source": [
        "## Background\n",
        "\n",
        "The command-line interface in this chapter is modeled after [GDB, the GNU debugger](https://www.gnu.org/software/gdb/), whose interface in turn goes back to earlier command-line debuggers such as [dbx](https://en.wikipedia.org/wiki/Dbx_%28debugger%29). All modern debuggers build on the functionality and concepts realized in these debuggers, be it breakpoints, stepping through programs, or inspecting program state.\n",
        "\n",
        "The concept of time travel debugging (see the Exercises, below) has been invented (and reinvented) many times. One of the most impactful tools comes from King et al. \\cite{King2005}, integrating _a time-traveling virtual machine_ (TTVM) for debugging operating systems, integrated into GDB. The recent [record+replay \"rr\" debugger](https://rr-project.org) also implements time travel debugging on top of the GDB command line debugger; it is applicable for general-purpose programs and available as open source."
      ]
    },
    {
      "cell_type": "markdown",
      "metadata": {
        "button": false,
        "new_sheet": true,
        "run_control": {
          "read_only": false
        },
        "tags": [
          "115",
          "116"
        ]
      },
      "source": [
        "## Exercises\n"
      ]
    },
    {
      "cell_type": "markdown",
      "metadata": {
        "button": false,
        "new_sheet": false,
        "run_control": {
          "read_only": false
        },
        "solution2": "hidden",
        "solution2_first": true,
        "tags": [
          "116",
          "117"
        ]
      },
      "source": [
        "### Exercise 1: Changing State\n",
        "\n",
        "Some Python implementations allow altering the state by assigning values to `frame.f_locals`. Implement a `assign VAR=VALUE` command that allows changing the value of (local) variable `VAR` to the new value `VALUE`.\n",
        "\n",
        "Note: As detailed in [this blog post](https://utcc.utoronto.ca/~cks/space/blog/python/FLocalsAndTraceFunctions), \n",
        "`frame.f_locals` is re-populated with every access, so assign to our local alias `self.local_vars` instead."
      ]
    },
    {
      "cell_type": "markdown",
      "metadata": {
        "slideshow": {
          "slide_type": "skip"
        },
        "solution2": "hidden",
        "tags": [
          "117",
          "118"
        ]
      },
      "source": [
        "**Solution.** Here is an `assign` command that gets things right on CPython."
      ]
    },
    {
      "cell_type": "code",
      "execution_count": null,
      "metadata": {
        "slideshow": {
          "slide_type": "skip"
        },
        "solution2": "hidden",
        "tags": [
          "118",
          "119"
        ]
      },
      "outputs": [],
      "source": [
        "class Debugger(Debugger):\n",
        "    def assign_command(self, arg: str) -> None:\n",
        "        \"\"\"Use as 'assign VAR=VALUE'. Assign VALUE to local variable VAR.\"\"\"\n",
        "\n",
        "        sep = arg.find('=')\n",
        "        if sep > 0:\n",
        "            var = arg[:sep].strip()\n",
        "            expr = arg[sep + 1:].strip()\n",
        "        else:\n",
        "            self.help_command(\"assign\")\n",
        "            return\n",
        "\n",
        "        vars = self.local_vars\n",
        "        try:\n",
        "            vars[var] = eval(expr, self.frame.f_globals, vars)\n",
        "        except Exception as err:\n",
        "            self.log(f\"{err.__class__.__name__}: {err}\")"
      ]
    },
    {
      "cell_type": "code",
      "execution_count": null,
      "metadata": {
        "slideshow": {
          "slide_type": "skip"
        },
        "solution2": "hidden",
        "tags": [
          "119",
          "120"
        ]
      },
      "outputs": [],
      "source": [
        "# ignore\n",
        "next_inputs([\"assign s = 'xyz'\", \"print\", \"step\", \"print\", \"step\",\n",
        "             \"assign tag = True\", \"assign s = 'abc'\", \"print\",\n",
        "             \"step\", \"print\", \"continue\"]);"
      ]
    },
    {
      "cell_type": "code",
      "execution_count": null,
      "metadata": {
        "slideshow": {
          "slide_type": "skip"
        },
        "solution2": "hidden",
        "tags": [
          "120",
          "121"
        ]
      },
      "outputs": [],
      "source": [
        "with Debugger():\n",
        "    remove_html_markup('abc')"
      ]
    },
    {
      "cell_type": "code",
      "execution_count": null,
      "metadata": {
        "slideshow": {
          "slide_type": "skip"
        },
        "solution2": "hidden",
        "tags": [
          "121",
          "122"
        ]
      },
      "outputs": [],
      "source": [
        "# docassert\n",
        "assert not next_inputs()"
      ]
    },
    {
      "cell_type": "markdown",
      "metadata": {
        "button": false,
        "new_sheet": false,
        "run_control": {
          "read_only": false
        },
        "tags": [
          "122",
          "123"
        ]
      },
      "source": [
        "### Exercise 2: More Commands\n",
        "\n",
        "Extending the `Debugger` class with extra features and commands is a breeze. The following commands are inspired from [the GNU command-line debugger (GDB)](https://www.gnu.org/software/gdb/):"
      ]
    },
    {
      "cell_type": "markdown",
      "metadata": {
        "button": false,
        "new_sheet": false,
        "run_control": {
          "read_only": false
        },
        "tags": [
          "123",
          "124"
        ]
      },
      "source": [
        "#### Named breakpoints (\"break\")\n",
        "\n",
        "With `break FUNCTION` and `delete FUNCTION`, set and delete a breakpoint at `FUNCTION`."
      ]
    },
    {
      "cell_type": "markdown",
      "metadata": {
        "button": false,
        "new_sheet": false,
        "run_control": {
          "read_only": false
        },
        "tags": [
          "124",
          "125"
        ]
      },
      "source": [
        "#### Step over functions (\"next\")\n",
        "\n",
        "When stopped at a function call, the `next` command should execute the entire call, stopping when the function returns. (In contrast, `step` stops at the first line of the function called.)"
      ]
    },
    {
      "cell_type": "markdown",
      "metadata": {
        "button": false,
        "new_sheet": false,
        "run_control": {
          "read_only": false
        },
        "tags": [
          "125",
          "126"
        ]
      },
      "source": [
        "#### Print call stack (\"where\")\n",
        "\n",
        "Implement a `where` command that shows the stack of calling functions."
      ]
    },
    {
      "cell_type": "markdown",
      "metadata": {
        "button": false,
        "new_sheet": false,
        "run_control": {
          "read_only": false
        },
        "tags": [
          "126",
          "127"
        ]
      },
      "source": [
        "#### Move up and down the call stack (\"up\" and \"down\")\n",
        "\n",
        "After entering the `up` command, explore the source and variables of the _calling_ function rather than the current function. Use `up` repeatedly to move further up the stack. `down` returns to the caller."
      ]
    },
    {
      "cell_type": "markdown",
      "metadata": {
        "button": false,
        "new_sheet": false,
        "run_control": {
          "read_only": false
        },
        "tags": [
          "127",
          "128"
        ]
      },
      "source": [
        "#### Execute until line (\"until\")\n",
        "\n",
        "With `until LINE`, resume execution until a line greater than `LINE` is reached. If `LINE` is not given, resume execution until a line greater than the current is reached. This is useful to avoid stepping through multiple loop iterations."
      ]
    },
    {
      "cell_type": "markdown",
      "metadata": {
        "button": false,
        "new_sheet": false,
        "run_control": {
          "read_only": false
        },
        "tags": [
          "128",
          "129"
        ]
      },
      "source": [
        "#### Execute until return (\"finish\")\n",
        "\n",
        "With `finish`, resume execution until the current function returns."
      ]
    },
    {
      "cell_type": "markdown",
      "metadata": {
        "button": false,
        "new_sheet": false,
        "run_control": {
          "read_only": false
        },
        "tags": [
          "129",
          "130"
        ]
      },
      "source": [
        "#### Watchpoints (\"watch\")\n",
        "\n",
        "With `watch CONDITION`, stop execution as soon as `CONDITION` changes its value. (Use the code from our `EventTracer` class in the [chapter on Tracing](Tracer.ipynb).) `delete CONDITION` removes the watchpoint. Keep in mind that some variable names may not exist at all times."
      ]
    },
    {
      "cell_type": "markdown",
      "metadata": {
        "button": false,
        "new_sheet": false,
        "run_control": {
          "read_only": false
        },
        "tags": [
          "130",
          "131"
        ]
      },
      "source": [
        "### Exercise 3: Time-Travel Debugging\n",
        "\n",
        "Rather than inspecting a function at the moment it executes, you can also _record_ the entire state (call stack, local variables, etc.) during execution, and then run an interactive session to step through the recorded execution. Your time travel debugger would be invoked as\n",
        "\n",
        "```python\n",
        "with TimeTravelDebugger():\n",
        "    function_to_be_tracked()\n",
        "    ...\n",
        "```\n",
        "\n",
        "The interaction then starts at the end of the `with` block."
      ]
    },
    {
      "cell_type": "markdown",
      "metadata": {
        "button": false,
        "new_sheet": false,
        "run_control": {
          "read_only": false
        },
        "tags": [
          "131",
          "132"
        ]
      },
      "source": [
        "#### Part 1: Recording Values\n",
        "\n",
        "Start with a subclass of `Tracer` from the [chapter on tracing](Tracer.ipynb) (say, `TimeTravelTracer`) to execute a program while recording all values. Keep in mind that recording even only local variables at each step quickly consumes large amounts of memory. As an alternative, consider recording only _changes_ to variables, with the option to restore an entire state from a baseline and later changes."
      ]
    },
    {
      "cell_type": "markdown",
      "metadata": {
        "button": false,
        "new_sheet": false,
        "run_control": {
          "read_only": false
        },
        "tags": [
          "132",
          "133"
        ]
      },
      "source": [
        "#### Part 2: Command Line Interface\n",
        "\n",
        "Create `TimeTravelDebugger` as subclass of both `TimeTravelTracer` and `Debugger` to provide a command line interface as with `Debugger`, including additional commands which get you back to earlier states:\n",
        "\n",
        "* `back` is like `step`, except that you go one line back\n",
        "* `restart` gets you to the beginning of the execution\n",
        "* `rewind` gets you to the beginning of the current function invocation"
      ]
    },
    {
      "cell_type": "markdown",
      "metadata": {
        "button": false,
        "new_sheet": false,
        "run_control": {
          "read_only": false
        },
        "tags": [
          "133",
          "134"
        ]
      },
      "source": [
        "#### Part 3: Graphical User Interface\n",
        "\n",
        "Create `GUItimeTravelDebugger` to provide a _graphical user interface_ that allows you to explore a recorded execution, using HTML and JavaScript."
      ]
    },
    {
      "cell_type": "markdown",
      "metadata": {
        "button": false,
        "new_sheet": false,
        "run_control": {
          "read_only": false
        },
        "tags": [
          "134",
          "135"
        ]
      },
      "source": [
        "Here's a simple example to get you started. Assume you have recorded the following line numbers and variable values:"
      ]
    },
    {
      "cell_type": "code",
      "execution_count": null,
      "metadata": {
        "tags": [
          "135",
          "136"
        ]
      },
      "outputs": [],
      "source": [
        "recording: List[Tuple[int, Dict[str, Any]]] = [\n",
        "    (10, {'x': 25}),\n",
        "    (11, {'x': 25}),\n",
        "    (12, {'x': 26, 'a': \"abc\"}),\n",
        "    (13, {'x': 26, 'a': \"abc\"}),\n",
        "    (10, {'x': 30}),\n",
        "    (11, {'x': 30}),\n",
        "    (12, {'x': 31, 'a': \"def\"}),\n",
        "    (13, {'x': 31, 'a': \"def\"}),\n",
        "    (10, {'x': 35}),\n",
        "    (11, {'x': 35}),\n",
        "    (12, {'x': 36, 'a': \"ghi\"}),\n",
        "    (13, {'x': 36, 'a': \"ghi\"}),\n",
        "]"
      ]
    },
    {
      "cell_type": "markdown",
      "metadata": {
        "tags": [
          "136",
          "137"
        ]
      },
      "source": [
        "Then, the following function will provide a _slider_ that will allow you to explore these values:"
      ]
    },
    {
      "cell_type": "code",
      "execution_count": null,
      "metadata": {
        "tags": [
          "137",
          "138"
        ]
      },
      "outputs": [],
      "source": [
        "from bookutils import HTML"
      ]
    },
    {
      "cell_type": "code",
      "execution_count": null,
      "metadata": {
        "tags": [
          "138",
          "139"
        ]
      },
      "outputs": [],
      "source": [
        "def slider(rec: List[Tuple[int, Dict[str, Any]]]) -> str:\n",
        "    lines_over_time = [line for (line, var) in rec]\n",
        "    vars_over_time = []\n",
        "    for (line, vars) in rec:\n",
        "        vars_over_time.append(\", \".join(f\"{var} = {repr(value)}\"\n",
        "                                        for var, value in vars.items()))\n",
        "\n",
        "    # print(lines_over_time)\n",
        "    # print(vars_over_time)\n",
        "\n",
        "    template = f'''\n",
        "    <div class=\"time_travel_debugger\">\n",
        "      <input type=\"range\" min=\"0\" max=\"{len(lines_over_time) - 1}\"\n",
        "      value=\"0\" class=\"slider\" id=\"time_slider\">\n",
        "      Line <span id=\"line\">{lines_over_time[0]}</span>:\n",
        "      <span id=\"vars\">{vars_over_time[0]}</span>\n",
        "    </div>\n",
        "    <script>\n",
        "       var lines_over_time = {lines_over_time};\n",
        "       var vars_over_time = {vars_over_time};\n",
        "\n",
        "       var time_slider = document.getElementById(\"time_slider\");\n",
        "       var line = document.getElementById(\"line\");\n",
        "       var vars = document.getElementById(\"vars\");\n",
        "\n",
        "       time_slider.oninput = function() {{\n",
        "          line.innerHTML = lines_over_time[this.value];\n",
        "          vars.innerHTML = vars_over_time[this.value];\n",
        "       }}\n",
        "    </script>\n",
        "    '''\n",
        "    # print(template)\n",
        "    return HTML(template)"
      ]
    },
    {
      "cell_type": "code",
      "execution_count": null,
      "metadata": {
        "tags": [
          "139",
          "140"
        ]
      },
      "outputs": [],
      "source": [
        "slider(recording)"
      ]
    },
    {
      "cell_type": "markdown",
      "metadata": {
        "tags": [
          "140",
          "141"
        ]
      },
      "source": [
        "Explore the HTML and JavaScript details of how `slider()` works, and then expand it to a user interface where you can\n",
        "\n",
        "* see the current source code (together with the line being executed)\n",
        "* search for specific events, such as a line being executed or a variable changing its value\n",
        "\n",
        "Just like `slider()`, your user interface should come in pure HTML and JavaScript such that it can run in a browser (or a Jupyter notebook) without interacting with a Python program."
      ]
    }
  ],
  "metadata": {
    "celltoolbar": "Tags",
    "ipub": {
      "bibliography": "fuzzingbook.bib",
      "toc": true
    },
    "kernelspec": {
      "display_name": "Python 3 (ipykernel)",
      "language": "python",
      "name": "python3"
    },
    "language_info": {
      "codemirror_mode": {
        "name": "ipython",
        "version": 3
      },
      "file_extension": ".py",
      "mimetype": "text/x-python",
      "name": "python",
      "nbconvert_exporter": "python",
      "pygments_lexer": "ipython3",
      "version": "3.11.9"
    },
    "toc": {
      "base_numbering": 1,
      "nav_menu": {},
      "number_sections": true,
      "sideBar": true,
      "skip_h1_title": true,
      "title_cell": "",
      "title_sidebar": "Contents",
      "toc_cell": false,
      "toc_position": {},
      "toc_section_display": true,
      "toc_window_display": true
    },
    "toc-autonumbering": false,
    "toc-showtags": false,
    "vscode": {
      "interpreter": {
        "hash": "0af4f07dd039d1b4e562c7a7d0340393b1c66f50605ac6af30beb81aa23b7ef5"
      }
    }
  },
  "nbformat": 4,
  "nbformat_minor": 4
}